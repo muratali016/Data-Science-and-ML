{
  "nbformat": 4,
  "nbformat_minor": 0,
  "metadata": {
    "colab": {
      "name": "Crash_Numpy_and_Torch.ipynb",
      "provenance": [],
      "collapsed_sections": []
    },
    "kernelspec": {
      "name": "python3",
      "display_name": "Python 3"
    },
    "language_info": {
      "name": "python"
    }
  },
  "cells": [
    {
      "cell_type": "markdown",
      "source": [
        "**Numpy**"
      ],
      "metadata": {
        "id": "NWVCbwckmc5q"
      }
    },
    {
      "cell_type": "code",
      "execution_count": null,
      "metadata": {
        "id": "jDdk6zfeBI2H"
      },
      "outputs": [],
      "source": [
        "import numpy as np"
      ]
    },
    {
      "cell_type": "code",
      "source": [
        "list1=[[1,2,3],[4,5,6]]\n",
        "array_list1=np.array(list1)\n",
        "\n",
        "print(list1)\n",
        "print(array_list1)\n",
        "\n",
        "a=np.ones((7,7))+5\n",
        "print(a)\n",
        "\n",
        "b=np.linspace(0,10,100)\n",
        "print(b)"
      ],
      "metadata": {
        "colab": {
          "base_uri": "https://localhost:8080/"
        },
        "id": "fmIqfHENHfCP",
        "outputId": "f8875558-66d3-4f8c-ede6-a0c727c2a07e"
      },
      "execution_count": null,
      "outputs": [
        {
          "output_type": "stream",
          "name": "stdout",
          "text": [
            "[[1, 2, 3], [4, 5, 6]]\n",
            "[[1 2 3]\n",
            " [4 5 6]]\n",
            "[[6. 6. 6. 6. 6. 6. 6.]\n",
            " [6. 6. 6. 6. 6. 6. 6.]\n",
            " [6. 6. 6. 6. 6. 6. 6.]\n",
            " [6. 6. 6. 6. 6. 6. 6.]\n",
            " [6. 6. 6. 6. 6. 6. 6.]\n",
            " [6. 6. 6. 6. 6. 6. 6.]\n",
            " [6. 6. 6. 6. 6. 6. 6.]]\n",
            "[ 0.          0.1010101   0.2020202   0.3030303   0.4040404   0.50505051\n",
            "  0.60606061  0.70707071  0.80808081  0.90909091  1.01010101  1.11111111\n",
            "  1.21212121  1.31313131  1.41414141  1.51515152  1.61616162  1.71717172\n",
            "  1.81818182  1.91919192  2.02020202  2.12121212  2.22222222  2.32323232\n",
            "  2.42424242  2.52525253  2.62626263  2.72727273  2.82828283  2.92929293\n",
            "  3.03030303  3.13131313  3.23232323  3.33333333  3.43434343  3.53535354\n",
            "  3.63636364  3.73737374  3.83838384  3.93939394  4.04040404  4.14141414\n",
            "  4.24242424  4.34343434  4.44444444  4.54545455  4.64646465  4.74747475\n",
            "  4.84848485  4.94949495  5.05050505  5.15151515  5.25252525  5.35353535\n",
            "  5.45454545  5.55555556  5.65656566  5.75757576  5.85858586  5.95959596\n",
            "  6.06060606  6.16161616  6.26262626  6.36363636  6.46464646  6.56565657\n",
            "  6.66666667  6.76767677  6.86868687  6.96969697  7.07070707  7.17171717\n",
            "  7.27272727  7.37373737  7.47474747  7.57575758  7.67676768  7.77777778\n",
            "  7.87878788  7.97979798  8.08080808  8.18181818  8.28282828  8.38383838\n",
            "  8.48484848  8.58585859  8.68686869  8.78787879  8.88888889  8.98989899\n",
            "  9.09090909  9.19191919  9.29292929  9.39393939  9.49494949  9.5959596\n",
            "  9.6969697   9.7979798   9.8989899  10.        ]\n"
          ]
        }
      ]
    },
    {
      "cell_type": "code",
      "source": [
        "random=np.random.rand(4,4)\n",
        "print(\"random sayılar\",random)\n",
        "\n",
        "random2=np.random.randn(5,5)\n",
        "print(\"random sayılar\",random2)\n",
        "\n",
        "random3=np.random.randint(1,5,40)\n",
        "print(\"integer random sayılar\",random3)\n",
        "print(random3.shape)#resize çarpımı shape e eşit olmalı\n",
        "\n",
        "random3_reshape=random3.reshape(8,5)\n",
        "print(random3_reshape)\n",
        "\n",
        "max_random3=random3.max()\n",
        "print(\"random3 teki en büyük eleman\",max_random3)\n",
        "\n",
        "min_random3=random3.min()\n",
        "print(\"random3 teki en küçük eleman\",min_random3)\n",
        "\n",
        "max_random3_index_no=random3.argmax()\n",
        "min_random3_index_no=random3.argmin()\n",
        "\n",
        "print(\"en büyük elemanın indexi\",max_random3_index_no)\n",
        "print(\"en küçük elemanın indexi\",min_random3_index_no)"
      ],
      "metadata": {
        "colab": {
          "base_uri": "https://localhost:8080/"
        },
        "id": "PEcpswmlJJGc",
        "outputId": "03d8257e-2140-498a-8a6f-4904b1d45f9a"
      },
      "execution_count": null,
      "outputs": [
        {
          "output_type": "stream",
          "name": "stdout",
          "text": [
            "random sayılar [[0.2548152  0.32151779 0.82951295 0.29267844]\n",
            " [0.92441934 0.26109998 0.13162822 0.61345419]\n",
            " [0.70413912 0.65926711 0.60559108 0.68312083]\n",
            " [0.11941325 0.48750942 0.24670847 0.7667616 ]]\n",
            "random sayılar [[ 0.90523966 -0.11690884 -0.39573608  0.67326348 -0.58894855]\n",
            " [-0.10967237 -0.58034102  0.27096101  0.23452665  1.8223391 ]\n",
            " [ 0.75815828  1.4788965   0.21867371  0.28458323 -1.64394682]\n",
            " [-0.1439497  -2.49469215 -0.81636526 -0.40015092 -1.01872804]\n",
            " [-1.69878666 -0.81834405  0.20901597 -1.82923347  2.42165036]]\n",
            "integer random sayılar [4 2 1 3 1 3 1 1 3 4 4 3 3 3 4 4 2 3 1 1 1 1 1 3 2 3 4 4 2 4 2 3 3 1 3 1 3\n",
            " 4 3 3]\n",
            "(40,)\n",
            "[[4 2 1 3 1]\n",
            " [3 1 1 3 4]\n",
            " [4 3 3 3 4]\n",
            " [4 2 3 1 1]\n",
            " [1 1 1 3 2]\n",
            " [3 4 4 2 4]\n",
            " [2 3 3 1 3]\n",
            " [1 3 4 3 3]]\n",
            "random3 teki en büyük eleman 4\n",
            "random3 teki en küçük eleman 1\n",
            "en büyük elemanın indexi 0\n",
            "en küçük elemanın indexi 2\n"
          ]
        }
      ]
    },
    {
      "cell_type": "code",
      "source": [
        "range_array=np.arange(0,10)\n",
        "print(range_array)\n",
        "print(range_array[:4])\n",
        "\n",
        "slice_array=range_array[:4]\n",
        "slice_array_changed=slice_array.copy()\n",
        "slice_array_changed[:]=100\n",
        "print(slice_array_changed)\n"
      ],
      "metadata": {
        "colab": {
          "base_uri": "https://localhost:8080/"
        },
        "id": "90THOKTfMLLH",
        "outputId": "dfeb43e5-4044-4138-e998-57f60fe057c3"
      },
      "execution_count": null,
      "outputs": [
        {
          "output_type": "stream",
          "name": "stdout",
          "text": [
            "[0 1 2 3 4 5 6 7 8 9]\n",
            "[0 1 2 3]\n",
            "[100 100 100 100]\n"
          ]
        }
      ]
    },
    {
      "cell_type": "code",
      "source": [
        "array_2d=np.array([[1,2,3],[4,5,6],[7,8,9]])\n",
        "a=array_2d.sum(axis=0)\n",
        "print(a)#sütunların toplamı,sum of the value in columns"
      ],
      "metadata": {
        "colab": {
          "base_uri": "https://localhost:8080/"
        },
        "id": "ehwfNCSsBoYo",
        "outputId": "8371c2ef-3536-4f26-aed5-d31f2fd85968"
      },
      "execution_count": null,
      "outputs": [
        {
          "output_type": "stream",
          "name": "stdout",
          "text": [
            "[12 15 18]\n"
          ]
        }
      ]
    },
    {
      "cell_type": "markdown",
      "source": [
        "**Torch**"
      ],
      "metadata": {
        "id": "5nRvs-F3kMuK"
      }
    },
    {
      "cell_type": "code",
      "source": [
        "import torch"
      ],
      "metadata": {
        "id": "Pfyzt9qRkRAy"
      },
      "execution_count": null,
      "outputs": []
    },
    {
      "cell_type": "code",
      "source": [
        "array=np.array([[1,2,3],[4,5,6]])\n",
        "array_tensor=torch.from_numpy(array)\n",
        "print(\"numpy array\",array)\n",
        "print(\"numpy array converted to torch tensor\",array_tensor)\n",
        "\n",
        "array=array.reshape(2,3)\n",
        "array_tensor=torch.from_numpy(array)\n",
        "print(\"reshaped\",array)\n",
        "print(\"reshaped :  {} type  : {}\".format(array_tensor,array_tensor.dtype))"
      ],
      "metadata": {
        "colab": {
          "base_uri": "https://localhost:8080/"
        },
        "id": "YRpDfiWbkW3G",
        "outputId": "72841aab-4eb0-49fd-9eed-dbee04fb50c1"
      },
      "execution_count": null,
      "outputs": [
        {
          "output_type": "stream",
          "name": "stdout",
          "text": [
            "numpy array [[1 2 3]\n",
            " [4 5 6]]\n",
            "numpy array converted to torch tensor tensor([[1, 2, 3],\n",
            "        [4, 5, 6]])\n",
            "reshaped [[1 2 3]\n",
            " [4 5 6]]\n",
            "reshaped :  tensor([[1, 2, 3],\n",
            "        [4, 5, 6]]) type  : torch.int64\n"
          ]
        }
      ]
    },
    {
      "cell_type": "code",
      "source": [
        "new_arr=np.array([1,2,3])\n",
        "tensor_dytpe_int=torch.tensor(new_arr)\n",
        "tensor_dytpe_float=torch.Tensor(new_arr)\n",
        "print(tensor_dytpe_int,tensor_dytpe_int.dtype)\n",
        "print(tensor_dytpe_float,tensor_dytpe_float.dtype)\n",
        "\n",
        "a=torch.arange(0,40,4,dtype=torch.float32)\n",
        "\n",
        "a=a.reshape(2,5)#view(2,5) de olur\n",
        "#rand randn randint linspace ones zeros hepsi torch'da da var\n",
        "print(\"a\",a)\n",
        "print(\"seçilen yerler\",a[:2,3:5])   \n",
        "\n",
        "#matrix çarpımı\n",
        "x=torch.tensor([[1,2,3],[4,5,6]])\n",
        "y=torch.tensor([[4,5],[7,8],[9,11]])\n",
        "\n",
        "matrix_carpımı=torch.mm(x,y)# x @ y aynı işi yapıyor\n",
        "print(\"matrix çarpımı\",matrix_carpımı)\n",
        "#x.numel() toplam elemanı verir len sadece satır sayısını"
      ],
      "metadata": {
        "colab": {
          "base_uri": "https://localhost:8080/"
        },
        "id": "ltxgdZz6mbjO",
        "outputId": "bdfa4420-dffa-42eb-f3bb-b2610a600105"
      },
      "execution_count": null,
      "outputs": [
        {
          "output_type": "stream",
          "name": "stdout",
          "text": [
            "tensor([1, 2, 3]) torch.int64\n",
            "tensor([1., 2., 3.]) torch.float32\n",
            "a tensor([[ 0.,  4.,  8., 12., 16.],\n",
            "        [20., 24., 28., 32., 36.]])\n",
            "seçilen yerler tensor([[32., 36.]])\n",
            "matrix çarpımı tensor([[ 45,  54],\n",
            "        [105, 126]])\n"
          ]
        }
      ]
    }
  ]
}